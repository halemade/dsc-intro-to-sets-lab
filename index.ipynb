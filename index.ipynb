{
 "cells": [
  {
   "cell_type": "markdown",
   "metadata": {},
   "source": [
    "# Introduction to Sets - Lab\n",
    "\n",
    "## Introduction\n",
    "\n",
    "Probability theory is all around. A common example is in the game of poker or related card games, where players try to calculate the probability of winning a round given the cards they have in their hands. Also, in a business context, probabilities play an important role. Operating in a volatile economy, companies need to take uncertainty into account and this is exactly where probability theory plays a role.\n",
    "\n",
    "As mentioned in the lesson before, a good understanding of probability starts with understanding of sets and set operations. That's exactly what you'll learn in this lab!\n",
    "\n",
    "## Objectives\n",
    "\n",
    "You will be able to:\n",
    "\n",
    "* Use Python to perform set operations\n",
    "* Use Python to demonstrate the inclusion/exclusion principle\n",
    "\n",
    "\n",
    "## Exploring Set Operations Using a Venn Diagram\n",
    "\n",
    "Let's start with a pretty conceptual example. Let's consider the following sets:\n",
    "\n",
    "   - $\\Omega$ = positive integers between [1, 12]\n",
    "   - $A$= even numbers between [1, 10]\n",
    "   - $B = \\{3,8,11,12\\}$\n",
    "   - $C = \\{2,3,6,8,9,11\\}$\n",
    "    \n",
    "\n",
    "#### a. Illustrate all the sets in a Venn Diagram like the one below. The rectangular shape represents the universal set.\n",
    "\n",
    "<img src=\"./images/venn_diagr.png\" width=\"600\">\n"
   ]
  },
  {
   "cell_type": "code",
   "execution_count": 43,
   "metadata": {},
   "outputs": [
    {
     "data": {
      "image/png": "[encoded data removed]",
      "text/plain": [
       "<Figure size 432x288 with 1 Axes>"
      ]
     },
     "metadata": {},
     "output_type": "display_data"
    }
   ],
   "source": [
    "omega = set(range(1,13))\n",
    "A=set()\n",
    "i=0\n",
    "for i in range(1,11):\n",
    "    if i%2 == 0:\n",
    "        A.add(i)\n",
    "B={3,8,11,12}\n",
    "C={2,3,6,8,9,11}\n",
    "import matplotlib.pyplot as plt\n",
    "from matplotlib_venn import venn3\n",
    "%matplotlib inline\n",
    "venn3(subsets = (A, B, C), set_labels = ('A', 'B','C'))\n",
    "plt.show()"
   ]
  },
  {
   "cell_type": "markdown",
   "metadata": {},
   "source": [
    "#### b. Using your Venn Diagram, list the elements in each of the following sets:\n",
    "\n",
    "Do this work by hand (writing in the values of each set), then you will check your answers using Python code later!\n",
    "\n",
    "For example, if the question was just asking for the values of $B$, you would replace `None` with `{3, 8, 11, 12}` typed out.\n",
    "\n",
    "$ A \\cap B$"
   ]
  },
  {
   "cell_type": "code",
   "execution_count": 46,
   "metadata": {},
   "outputs": [
    {
     "data": {
      "text/plain": [
       "{8}"
      ]
     },
     "execution_count": 46,
     "metadata": {},
     "output_type": "execute_result"
    }
   ],
   "source": [
    "ans1 = {8}\n",
    "ans1"
   ]
  },
  {
   "cell_type": "markdown",
   "metadata": {},
   "source": [
    "$ A \\cup C$"
   ]
  },
  {
   "cell_type": "code",
   "execution_count": 50,
   "metadata": {},
   "outputs": [
    {
     "data": {
      "text/plain": [
       "{2, 3, 4, 6, 8, 9, 10, 11}"
      ]
     },
     "execution_count": 50,
     "metadata": {},
     "output_type": "execute_result"
    }
   ],
   "source": [
    "ans2 = {2,4,6,8,10,3,9,11}\n",
    "ans2"
   ]
  },
  {
   "cell_type": "markdown",
   "metadata": {},
   "source": [
    "$A^c$"
   ]
  },
  {
   "cell_type": "code",
   "execution_count": 54,
   "metadata": {},
   "outputs": [
    {
     "data": {
      "text/plain": [
       "{1, 3, 5, 7, 9, 11, 12}"
      ]
     },
     "execution_count": 54,
     "metadata": {},
     "output_type": "execute_result"
    }
   ],
   "source": [
    "ans3 = {1, 3, 5, 7, 9, 11, 12}\n",
    "ans3"
   ]
  },
  {
   "cell_type": "markdown",
   "metadata": {},
   "source": [
    "The absolute complement of B"
   ]
  },
  {
   "cell_type": "code",
   "execution_count": 55,
   "metadata": {},
   "outputs": [
    {
     "data": {
      "text/plain": [
       "{1, 2, 4, 5, 6, 7, 9, 10}"
      ]
     },
     "execution_count": 55,
     "metadata": {},
     "output_type": "execute_result"
    }
   ],
   "source": [
    "ans4 = {1,2,4,5,6,7,9,10}\n",
    "ans4"
   ]
  },
  {
   "cell_type": "markdown",
   "metadata": {},
   "source": [
    "$(A \\cup B)^c$"
   ]
  },
  {
   "cell_type": "code",
   "execution_count": 56,
   "metadata": {},
   "outputs": [
    {
     "data": {
      "text/plain": [
       "{1, 5, 7, 9}"
      ]
     },
     "execution_count": 56,
     "metadata": {},
     "output_type": "execute_result"
    }
   ],
   "source": [
    "ans5 = {1,5,7,9}\n",
    "ans5"
   ]
  },
  {
   "cell_type": "markdown",
   "metadata": {},
   "source": [
    "$B \\cap C'$"
   ]
  },
  {
   "cell_type": "code",
   "execution_count": 57,
   "metadata": {},
   "outputs": [
    {
     "data": {
      "text/plain": [
       "{12}"
      ]
     },
     "execution_count": 57,
     "metadata": {},
     "output_type": "execute_result"
    }
   ],
   "source": [
    "ans6 = {12}\n",
    "ans6"
   ]
  },
  {
   "cell_type": "markdown",
   "metadata": {},
   "source": [
    "$A\\backslash B$"
   ]
  },
  {
   "cell_type": "code",
   "execution_count": 58,
   "metadata": {},
   "outputs": [
    {
     "data": {
      "text/plain": [
       "{2, 4, 6, 10}"
      ]
     },
     "execution_count": 58,
     "metadata": {},
     "output_type": "execute_result"
    }
   ],
   "source": [
    "ans7 = {2,4,6,10}\n",
    "ans7"
   ]
  },
  {
   "cell_type": "markdown",
   "metadata": {},
   "source": [
    "$C \\backslash (B \\backslash A)$ "
   ]
  },
  {
   "cell_type": "code",
   "execution_count": 60,
   "metadata": {},
   "outputs": [
    {
     "data": {
      "text/plain": [
       "{2, 6, 8, 9}"
      ]
     },
     "execution_count": 60,
     "metadata": {},
     "output_type": "execute_result"
    }
   ],
   "source": [
    "ans8 = {2,6,8,9}\n",
    "ans8"
   ]
  },
  {
   "cell_type": "markdown",
   "metadata": {},
   "source": [
    "$(C \\cap A) \\cup (C \\backslash B)$"
   ]
  },
  {
   "cell_type": "code",
   "execution_count": 71,
   "metadata": {},
   "outputs": [
    {
     "data": {
      "text/plain": [
       "{2, 6, 8, 9}"
      ]
     },
     "execution_count": 71,
     "metadata": {},
     "output_type": "execute_result"
    }
   ],
   "source": [
    "ans9 = {2,6,8,9}\n",
    "ans9"
   ]
  },
  {
   "cell_type": "markdown",
   "metadata": {},
   "source": [
    "\n",
    "        \n",
    "        \n",
    "#### c. For the remainder of this exercise, let's  create sets A, B and C and universal set U in Python and test out the results you came up with. Sets are easy to create in Python. For a guide to the syntax, follow some of the documentation [here](https://www.w3schools.com/python/python_sets.asp)"
   ]
  },
  {
   "cell_type": "code",
   "execution_count": 37,
   "metadata": {},
   "outputs": [
    {
     "data": {
      "text/plain": [
       "\"Type A: <class 'NoneType'>, A: None\""
      ]
     },
     "execution_count": 37,
     "metadata": {},
     "output_type": "execute_result"
    }
   ],
   "source": [
    "# Create set A\n",
    "A = None\n",
    "'Type A: {}, A: {}'.format(type(A), A) # \"Type A: <class 'set'>, A: {2, 4, 6, 8, 10}\""
   ]
  },
  {
   "cell_type": "code",
   "execution_count": 38,
   "metadata": {},
   "outputs": [
    {
     "data": {
      "text/plain": [
       "\"Type B: <class 'NoneType'>, B: None\""
      ]
     },
     "execution_count": 38,
     "metadata": {},
     "output_type": "execute_result"
    }
   ],
   "source": [
    "# Create set B\n",
    "B = None\n",
    "'Type B: {}, B: {}'.format(type(B), B) # \"Type B: <class 'set'>, B: {8, 11, 3, 12}\""
   ]
  },
  {
   "cell_type": "code",
   "execution_count": 39,
   "metadata": {},
   "outputs": [
    {
     "data": {
      "text/plain": [
       "\"Type C: <class 'NoneType'>, C: None\""
      ]
     },
     "execution_count": 39,
     "metadata": {},
     "output_type": "execute_result"
    }
   ],
   "source": [
    "# Create set C\n",
    "C = None\n",
    "'Type C: {}, C: {}'.format(type(C), C) # \"Type C: <class 'set'>, C: {2, 3, 6, 8, 9, 11}\""
   ]
  },
  {
   "cell_type": "code",
   "execution_count": 40,
   "metadata": {},
   "outputs": [
    {
     "data": {
      "text/plain": [
       "\"Type U: <class 'NoneType'>, U: None\""
      ]
     },
     "execution_count": 40,
     "metadata": {},
     "output_type": "execute_result"
    }
   ],
   "source": [
    "# Create universal set U\n",
    "U = None\n",
    "'Type U: {}, U: {}'.format(type(U), U) # \"Type U: <class 'set'>, U: {1, 2, 3, 4, 5, 6, 7, 8, 9, 10, 11, 12}\""
   ]
  },
  {
   "cell_type": "markdown",
   "metadata": {},
   "source": [
    "Now, verify your answers in section 1 by using the correct methods in Python. For example, if the question was just asking for the values of $B$, you would replace `None` with `B`.\n",
    "\n",
    "To provide a little bit of help, you can find a table with common operations on sets below.\n",
    "\n",
    "| Method        |\tEquivalent |\tResult |\n",
    "| ------                    | ------       | ------    |\n",
    "| s.issubset(t)             |\ts <= t     | test whether every element in s is in t\n",
    "| s.issuperset(t)           |\ts >= t     | test whether every element in t is in s\n",
    "| s.union(t)                |\ts $\\mid$ t | new set with elements from both s and t\n",
    "| s.intersection(t)         |\ts & t      | new set with elements common to s and t\n",
    "| s.difference(t)           |\ts - t \t   | new set with elements in s but not in t\n",
    "| s.symmetric_difference(t) |\ts ^ t      | new set with elements in either s or t but not both\n",
    "\n",
    "Every cell should display `True` if your original answer matches the answer you calculated with Python. If it displays `False`, that means either your original answer or your Python code is incorrect."
   ]
  },
  {
   "cell_type": "markdown",
   "metadata": {},
   "source": [
    "#### 1. $ A \\cap B$"
   ]
  },
  {
   "cell_type": "code",
   "execution_count": 61,
   "metadata": {},
   "outputs": [
    {
     "data": {
      "text/plain": [
       "True"
      ]
     },
     "execution_count": 61,
     "metadata": {},
     "output_type": "execute_result"
    }
   ],
   "source": [
    "A_inters_B = A.intersection(B)\n",
    "A_inters_B == ans1"
   ]
  },
  {
   "cell_type": "markdown",
   "metadata": {},
   "source": [
    "#### 2. $ A \\cup C $"
   ]
  },
  {
   "cell_type": "code",
   "execution_count": 62,
   "metadata": {},
   "outputs": [
    {
     "data": {
      "text/plain": [
       "True"
      ]
     },
     "execution_count": 62,
     "metadata": {},
     "output_type": "execute_result"
    }
   ],
   "source": [
    "A_union_C = A.union(C)\n",
    "A_union_C == ans2"
   ]
  },
  {
   "cell_type": "markdown",
   "metadata": {},
   "source": [
    "#### 3.  $A^c$"
   ]
  },
  {
   "cell_type": "code",
   "execution_count": 63,
   "metadata": {},
   "outputs": [
    {
     "data": {
      "text/plain": [
       "True"
      ]
     },
     "execution_count": 63,
     "metadata": {},
     "output_type": "execute_result"
    }
   ],
   "source": [
    "A_comp = omega.difference(A)\n",
    "A_comp == ans3"
   ]
  },
  {
   "cell_type": "markdown",
   "metadata": {},
   "source": [
    "#### 4. The absolute complement of B"
   ]
  },
  {
   "cell_type": "code",
   "execution_count": 64,
   "metadata": {},
   "outputs": [
    {
     "data": {
      "text/plain": [
       "True"
      ]
     },
     "execution_count": 64,
     "metadata": {},
     "output_type": "execute_result"
    }
   ],
   "source": [
    "B_comp = omega.difference(B)\n",
    "B_comp == ans4"
   ]
  },
  {
   "cell_type": "markdown",
   "metadata": {},
   "source": [
    "#### 5.  $(A \\cup B)^c $"
   ]
  },
  {
   "cell_type": "code",
   "execution_count": 65,
   "metadata": {},
   "outputs": [
    {
     "data": {
      "text/plain": [
       "True"
      ]
     },
     "execution_count": 65,
     "metadata": {},
     "output_type": "execute_result"
    }
   ],
   "source": [
    "A_union_B_comp = omega.difference(A.union(B))\n",
    "A_union_B_comp == ans5"
   ]
  },
  {
   "cell_type": "markdown",
   "metadata": {},
   "source": [
    "#### 6. $B \\cap C' $"
   ]
  },
  {
   "cell_type": "code",
   "execution_count": 67,
   "metadata": {},
   "outputs": [
    {
     "data": {
      "text/plain": [
       "True"
      ]
     },
     "execution_count": 67,
     "metadata": {},
     "output_type": "execute_result"
    }
   ],
   "source": [
    "B_inters_C_comp = B.intersection(omega.difference(C))\n",
    "B_inters_C_comp == ans6"
   ]
  },
  {
   "cell_type": "markdown",
   "metadata": {},
   "source": [
    "#### 7. $A\\backslash B$"
   ]
  },
  {
   "cell_type": "code",
   "execution_count": 68,
   "metadata": {},
   "outputs": [
    {
     "data": {
      "text/plain": [
       "True"
      ]
     },
     "execution_count": 68,
     "metadata": {},
     "output_type": "execute_result"
    }
   ],
   "source": [
    "compl_of_B = A.difference(B)\n",
    "compl_of_B == ans7"
   ]
  },
  {
   "cell_type": "markdown",
   "metadata": {},
   "source": [
    "#### 8. $C \\backslash (B \\backslash A) $"
   ]
  },
  {
   "cell_type": "code",
   "execution_count": 69,
   "metadata": {},
   "outputs": [
    {
     "data": {
      "text/plain": [
       "True"
      ]
     },
     "execution_count": 69,
     "metadata": {},
     "output_type": "execute_result"
    }
   ],
   "source": [
    "C_compl_B_compl_A = C.difference(B.difference(A))\n",
    "C_compl_B_compl_A == ans8"
   ]
  },
  {
   "cell_type": "markdown",
   "metadata": {},
   "source": [
    "#### 9.  $(C \\cap A) \\cup (C \\backslash B)$"
   ]
  },
  {
   "cell_type": "code",
   "execution_count": 72,
   "metadata": {},
   "outputs": [
    {
     "data": {
      "text/plain": [
       "True"
      ]
     },
     "execution_count": 72,
     "metadata": {},
     "output_type": "execute_result"
    }
   ],
   "source": [
    "C_inters_A_union_C_min_B = (C.intersection(A)).union(C.difference(B))\n",
    "C_inters_A_union_C_min_B == ans9"
   ]
  },
  {
   "cell_type": "markdown",
   "metadata": {},
   "source": [
    "## The Inclusion Exclusion Principle"
   ]
  },
  {
   "cell_type": "markdown",
   "metadata": {},
   "source": [
    "Use A, B and C from exercise one to verify the inclusion exclusion principle in Python. \n",
    "You can use the sets A, B and C as used in the previous exercise. \n",
    "\n",
    "Recall from the previous lesson that:\n",
    "\n",
    "$$\\mid A \\cup B\\cup C\\mid = \\mid A \\mid + \\mid B \\mid + \\mid C \\mid - \\mid A \\cap B \\mid  -\\mid A \\cap C \\mid - \\mid B \\cap C \\mid  + \\mid A \\cap B \\cap C \\mid $$\n",
    "\n",
    "Combining these main commands:\n",
    "\n",
    "| Method        |\tEquivalent |\tResult |\n",
    "| ------                    | ------       | ------    |\n",
    "| a.union(b)                |\tA $\\mid$ B | new set with elements from both a and b\n",
    "| a.intersection(b)         |\tA & B      | new set with elements common to a and b\n",
    "\n",
    "along with the `len(x)` function to get to the cardinality of a given x (\"|x|\").\n",
    "\n",
    "What you'll do is translate the left hand side of the equation for the inclusion principle in the object `left_hand_eq`, and the right hand side in the object `right_hand_eq` and see if the results are the same.\n"
   ]
  },
  {
   "cell_type": "code",
   "execution_count": 76,
   "metadata": {},
   "outputs": [
    {
     "name": "stdout",
     "output_type": "stream",
     "text": [
      "9\n"
     ]
    }
   ],
   "source": [
    "left_hand_eq = len(A | B | C)\n",
    "print(left_hand_eq)  # 9 elements in the set"
   ]
  },
  {
   "cell_type": "code",
   "execution_count": 77,
   "metadata": {},
   "outputs": [
    {
     "name": "stdout",
     "output_type": "stream",
     "text": [
      "9\n"
     ]
    }
   ],
   "source": [
    "right_hand_eq = len(A)+len(B)+len(C)-len(A&B)-len(A&C)-len(B&C)+len(A&B&C)\n",
    "print(right_hand_eq) # 9 elements in the set"
   ]
  },
  {
   "cell_type": "code",
   "execution_count": 78,
   "metadata": {},
   "outputs": [
    {
     "data": {
      "text/plain": [
       "True"
      ]
     },
     "execution_count": 78,
     "metadata": {},
     "output_type": "execute_result"
    }
   ],
   "source": [
    "left_hand_eq == right_hand_eq"
   ]
  },
  {
   "cell_type": "markdown",
   "metadata": {},
   "source": [
    "## Set Operations in Python\n",
    "\n",
    "Mary is preparing for a road trip from her hometown, Boston, to Chicago. She has quite a few pets, yet luckily, so do her friends. They try to make sure that they take care of each other's pets while someone is away on a trip. A month ago, each respective person's pet collection was given by the following three sets:"
   ]
  },
  {
   "cell_type": "code",
   "execution_count": 95,
   "metadata": {},
   "outputs": [],
   "source": [
    "Nina = set([\"Cat\",\"Dog\",\"Rabbit\",\"Donkey\",\"Parrot\", \"Goldfish\"])\n",
    "Mary = set([\"Dog\",\"Chinchilla\",\"Horse\", \"Chicken\"])\n",
    "Eve = set([\"Rabbit\", \"Turtle\", \"Goldfish\"])"
   ]
  },
  {
   "cell_type": "markdown",
   "metadata": {},
   "source": [
    "In this exercise, you'll be able to use the following operations:\n",
    "\n",
    "|Operation                          |\tEquivalent |\tResult|\n",
    "| ------                            | ------       | ------   |\n",
    "|s.update(t)                        | \t$s \\mid= t$ \t   |return set s with elements added from t|\n",
    "|s.intersection_update(t)           | \ts &= t     |\treturn set s keeping only elements also found in t|\n",
    "|s.difference_update(t)             |\ts -= t \t   |return set s after removing elements found in t|\n",
    "|s.symmetric_difference_update(t)   |\ts ^= t \t   |return set s with elements from s or t but not both|\n",
    "|s.add(x)                           |\t           |\tadd element x to set s|\n",
    "|s.remove(x)                        |\t           |\tremove x from set s|\n",
    "|s.discard(x)                       |\t           |\tremoves x from set s if present|\n",
    "|s.pop()                            | \t           |\tremove and return an arbitrary element from s|\n",
    "|s.clear()            \t            |  \t           |remove all elements from set s|\n",
    "\n",
    "Sadly, Eve's turtle passed away last week. Let's update her pet list accordingly."
   ]
  },
  {
   "cell_type": "code",
   "execution_count": 96,
   "metadata": {},
   "outputs": [
    {
     "data": {
      "text/plain": [
       "{'Goldfish', 'Rabbit'}"
      ]
     },
     "execution_count": 96,
     "metadata": {},
     "output_type": "execute_result"
    }
   ],
   "source": [
    "Eve.discard('Turtle')\n",
    "Eve # should be {'Rabbit', 'Goldfish'}"
   ]
  },
  {
   "cell_type": "markdown",
   "metadata": {},
   "source": [
    "This time around, Nina promised to take care of Mary's pets while she's away. But she also wants to make sure her pets are well taken care of. As Nina is already spending a considerable amount of time taking care of her own pets, adding a few more won't make that much of a difference. Nina does want to update her list while Mary is away. "
   ]
  },
  {
   "cell_type": "code",
   "execution_count": 97,
   "metadata": {},
   "outputs": [
    {
     "data": {
      "text/plain": [
       "{'Cat',\n",
       " 'Chicken',\n",
       " 'Chinchilla',\n",
       " 'Dog',\n",
       " 'Donkey',\n",
       " 'Goldfish',\n",
       " 'Horse',\n",
       " 'Parrot',\n",
       " 'Rabbit'}"
      ]
     },
     "execution_count": 97,
     "metadata": {},
     "output_type": "execute_result"
    }
   ],
   "source": [
    "Nina.update(Mary)\n",
    "Nina # {'Chicken', 'Horse', 'Chinchilla', 'Parrot', 'Rabbit', 'Donkey', 'Dog', 'Cat', 'Goldfish'}"
   ]
  },
  {
   "cell_type": "markdown",
   "metadata": {},
   "source": [
    "Mary, on the other hand, wants to clear her list altogether while away:"
   ]
  },
  {
   "cell_type": "code",
   "execution_count": 98,
   "metadata": {},
   "outputs": [
    {
     "data": {
      "text/plain": [
       "set()"
      ]
     },
     "execution_count": 98,
     "metadata": {},
     "output_type": "execute_result"
    }
   ],
   "source": [
    "Mary.clear()\n",
    "Mary  # set()"
   ]
  },
  {
   "cell_type": "markdown",
   "metadata": {},
   "source": [
    "Look at how many species Nina is taking care of right now."
   ]
  },
  {
   "cell_type": "code",
   "execution_count": 99,
   "metadata": {},
   "outputs": [
    {
     "data": {
      "text/plain": [
       "9"
      ]
     },
     "execution_count": 99,
     "metadata": {},
     "output_type": "execute_result"
    }
   ],
   "source": [
    "n_species_Nina = len(Nina)\n",
    "n_species_Nina # 9"
   ]
  },
  {
   "cell_type": "markdown",
   "metadata": {},
   "source": [
    "Taking care of this many pets is weighing heavily on Nina. She remembered Eve had a smaller collection of pets lately, and that's why she asks Eve to take care of the common species. This way, the extra pets are not a huge effort on Eve's behalf. Let's update Nina's pet collection."
   ]
  },
  {
   "cell_type": "code",
   "execution_count": 102,
   "metadata": {},
   "outputs": [
    {
     "data": {
      "text/plain": [
       "{'Cat', 'Chicken', 'Chinchilla', 'Dog', 'Donkey', 'Horse', 'Parrot'}"
      ]
     },
     "execution_count": 102,
     "metadata": {},
     "output_type": "execute_result"
    }
   ],
   "source": [
    "Nina.difference_update(Eve)\n",
    "Nina # 7"
   ]
  },
  {
   "cell_type": "markdown",
   "metadata": {},
   "source": [
    "Taking care of 7 species is something Nina feels comfortable doing!"
   ]
  },
  {
   "cell_type": "markdown",
   "metadata": {},
   "source": [
    "## Writing Down the Elements in a Set\n",
    "\n",
    "\n",
    "Mary dropped off her pets at Nina's house and finally made her way to the highway. Awesome, her vacation has begun!\n",
    "She's approaching an exit. At the end of this particular highway exit, cars can either turn left (L), go straight (S) or turn right (R). It's pretty busy and there are two cars driving close to her. What you'll do now is create several sets. You won't be using Python here, it's sufficient to write the sets down on paper. A good notion of sets and subsets will help you calculate probabilities in the next lab!\n",
    "\n",
    "Note: each set of action is what _all three cars_ are doing at any given time\n",
    "\n",
    "a. Create a set $A$ of all possible outcomes assuming that all three cars drive in the same direction.\n",
    "           \n",
    "b. Create a set $B$ of all possible outcomes assuming that all three cars drive in a different direction.\n",
    "             \n",
    "c. Create a set $C$ of all possible outcomes assuming that exactly 2 cars turn right.\n",
    "            \n",
    "d. Create a set $D$ of all possible outcomes assuming that exactly 2 cars drive in the same direction.\n",
    "\n",
    "                          \n",
    "e. Write down the interpretation and give all possible outcomes for the sets denoted by:\n",
    " - I. $D'$ \n",
    " - II. $C \\cap D$, \n",
    " - III. $C \\cup D$. "
   ]
  },
  {
   "cell_type": "markdown",
   "metadata": {},
   "source": [
    "## Optional Exercise: European Countries\n",
    "\n",
    "Use set operations to determine which European countries are not in the European Union. Use the `Country` column. You just might have to clean the data first with pandas.\n",
    "\n",
    "Note that this data is from 2018, so EU membership may have changed."
   ]
  },
  {
   "cell_type": "code",
   "execution_count": 105,
   "metadata": {},
   "outputs": [
    {
     "data": {
      "text/html": [
       "<div>\n",
       "<style scoped>\n",
       "    .dataframe tbody tr th:only-of-type {\n",
       "        vertical-align: middle;\n",
       "    }\n",
       "\n",
       "    .dataframe tbody tr th {\n",
       "        vertical-align: top;\n",
       "    }\n",
       "\n",
       "    .dataframe thead th {\n",
       "        text-align: right;\n",
       "    }\n",
       "</style>\n",
       "<table border=\"1\" class=\"dataframe\">\n",
       "  <thead>\n",
       "    <tr style=\"text-align: right;\">\n",
       "      <th></th>\n",
       "      <th>Rank</th>\n",
       "      <th>Country</th>\n",
       "      <th>Population</th>\n",
       "      <th>% of population</th>\n",
       "      <th>Average relative annual growth (%)</th>\n",
       "      <th>Average absolute annual growth</th>\n",
       "      <th>Estimated doubling time (Years)</th>\n",
       "      <th>Official figure (where available)</th>\n",
       "      <th>Date of last figure</th>\n",
       "      <th>Regional grouping</th>\n",
       "      <th>Source</th>\n",
       "    </tr>\n",
       "  </thead>\n",
       "  <tbody>\n",
       "    <tr>\n",
       "      <th>0</th>\n",
       "      <td>1.0</td>\n",
       "      <td>Russia</td>\n",
       "      <td>143964709</td>\n",
       "      <td>17.15</td>\n",
       "      <td>0.19</td>\n",
       "      <td>294285</td>\n",
       "      <td>368</td>\n",
       "      <td>146839993</td>\n",
       "      <td>2017-01-01 00:00:00</td>\n",
       "      <td>EAEU</td>\n",
       "      <td>[1]</td>\n",
       "    </tr>\n",
       "    <tr>\n",
       "      <th>1</th>\n",
       "      <td>2.0</td>\n",
       "      <td>Germany</td>\n",
       "      <td>82521653</td>\n",
       "      <td>9.80</td>\n",
       "      <td>1.20</td>\n",
       "      <td>600000</td>\n",
       "      <td>90</td>\n",
       "      <td>82800000</td>\n",
       "      <td>2016-12-31 00:00:00</td>\n",
       "      <td>EU</td>\n",
       "      <td>Official estimate</td>\n",
       "    </tr>\n",
       "    <tr>\n",
       "      <th>2</th>\n",
       "      <td>3.0</td>\n",
       "      <td>Turkey</td>\n",
       "      <td>80810000</td>\n",
       "      <td>9.60</td>\n",
       "      <td>1.34</td>\n",
       "      <td>1035000</td>\n",
       "      <td>52</td>\n",
       "      <td>77695904</td>\n",
       "      <td>2016-12-31 00:00:00</td>\n",
       "      <td>NaN</td>\n",
       "      <td>[2]</td>\n",
       "    </tr>\n",
       "    <tr>\n",
       "      <th>3</th>\n",
       "      <td>4.0</td>\n",
       "      <td>France</td>\n",
       "      <td>65233271</td>\n",
       "      <td>7.76</td>\n",
       "      <td>0.39</td>\n",
       "      <td>261022</td>\n",
       "      <td>177</td>\n",
       "      <td>66991000</td>\n",
       "      <td>2017-03-01 00:00:00</td>\n",
       "      <td>EU</td>\n",
       "      <td>[3]</td>\n",
       "    </tr>\n",
       "    <tr>\n",
       "      <th>4</th>\n",
       "      <td>5.0</td>\n",
       "      <td>United Kingdom</td>\n",
       "      <td>65110276</td>\n",
       "      <td>7.75</td>\n",
       "      <td>0.75</td>\n",
       "      <td>484000</td>\n",
       "      <td>92</td>\n",
       "      <td>66573504</td>\n",
       "      <td>2016-12-30 00:00:00</td>\n",
       "      <td>EU</td>\n",
       "      <td>Official estimate</td>\n",
       "    </tr>\n",
       "  </tbody>\n",
       "</table>\n",
       "</div>"
      ],
      "text/plain": [
       "   Rank         Country  Population  % of population  \\\n",
       "0   1.0          Russia   143964709            17.15   \n",
       "1   2.0        Germany     82521653             9.80   \n",
       "2   3.0         Turkey     80810000             9.60   \n",
       "3   4.0          France    65233271             7.76   \n",
       "4   5.0  United Kingdom    65110276             7.75   \n",
       "\n",
       "   Average relative annual growth (%)  Average absolute annual growth  \\\n",
       "0                                0.19                          294285   \n",
       "1                                1.20                          600000   \n",
       "2                                1.34                         1035000   \n",
       "3                                0.39                          261022   \n",
       "4                                0.75                          484000   \n",
       "\n",
       "  Estimated doubling time (Years)  Official figure (where available)  \\\n",
       "0                             368                          146839993   \n",
       "1                              90                           82800000   \n",
       "2                              52                           77695904   \n",
       "3                             177                           66991000   \n",
       "4                              92                           66573504   \n",
       "\n",
       "   Date of last figure Regional grouping             Source  \n",
       "0  2017-01-01 00:00:00             EAEU                 [1]  \n",
       "1  2016-12-31 00:00:00               EU   Official estimate  \n",
       "2  2016-12-31 00:00:00               NaN                [2]  \n",
       "3  2017-03-01 00:00:00               EU                 [3]  \n",
       "4  2016-12-30 00:00:00               EU   Official estimate  "
      ]
     },
     "execution_count": 105,
     "metadata": {},
     "output_type": "execute_result"
    }
   ],
   "source": [
    "import pandas as pd\n",
    "\n",
    "# Load Europe and EU\n",
    "europe = pd.read_excel('Europe_and_EU.xlsx', sheet_name = 'Europe') \n",
    "eu = pd.read_excel('Europe_and_EU.xlsx', sheet_name = 'EU')\n",
    "\n",
    "europe.head()"
   ]
  },
  {
   "cell_type": "markdown",
   "metadata": {},
   "source": [
    "Preview data:"
   ]
  },
  {
   "cell_type": "code",
   "execution_count": 113,
   "metadata": {},
   "outputs": [],
   "source": [
    "europe['Country'].map(lambda x: x.join(x.split()))\n",
    "eu['Country'].map(lambda x: x.join(x.split()))\n",
    "europe_set = set(europe['Country'])"
   ]
  },
  {
   "cell_type": "code",
   "execution_count": 114,
   "metadata": {},
   "outputs": [],
   "source": [
    "eu_set=set(eu['Country'])"
   ]
  },
  {
   "cell_type": "markdown",
   "metadata": {},
   "source": [
    "Your code comes here:"
   ]
  },
  {
   "cell_type": "code",
   "execution_count": 115,
   "metadata": {},
   "outputs": [
    {
     "data": {
      "text/plain": [
       "True"
      ]
     },
     "execution_count": 115,
     "metadata": {},
     "output_type": "execute_result"
    }
   ],
   "source": [
    "eu_set.issubset(europe_set)"
   ]
  },
  {
   "cell_type": "code",
   "execution_count": 120,
   "metadata": {},
   "outputs": [
    {
     "data": {
      "text/plain": [
       "{'  Switzerland ',\n",
       " '  Vatican City ',\n",
       " ' Albania ',\n",
       " ' Andorra ',\n",
       " ' Armenia ',\n",
       " ' Azerbaijan ',\n",
       " ' Belarus ',\n",
       " ' Bosnia and Herzegovina ',\n",
       " ' Faroe Islands (Denmark) ',\n",
       " ' Georgia ',\n",
       " ' Gibraltar (UK)',\n",
       " ' Guernsey (UK) ',\n",
       " ' Iceland ',\n",
       " ' Isle of Man (UK) ',\n",
       " ' Jersey (UK) ',\n",
       " ' Kosovo ',\n",
       " ' Liechtenstein ',\n",
       " ' Macedonia ',\n",
       " ' Moldova ',\n",
       " ' Monaco ',\n",
       " ' Montenegro ',\n",
       " ' Norway ',\n",
       " ' Russia',\n",
       " ' San Marino ',\n",
       " ' Serbia ',\n",
       " ' Svalbard (Norway) ',\n",
       " ' Turkey ',\n",
       " ' Ukraine',\n",
       " ' Åland Islands (Finland) '}"
      ]
     },
     "execution_count": 120,
     "metadata": {},
     "output_type": "execute_result"
    }
   ],
   "source": [
    "europe_set.difference(eu_set)"
   ]
  },
  {
   "cell_type": "markdown",
   "metadata": {},
   "source": [
    "## Summary"
   ]
  },
  {
   "cell_type": "markdown",
   "metadata": {},
   "source": [
    "In this lab, you practiced your knowledge on sets, such as common set operations, the use of Venn Diagrams, the inclusion exclusion principle, and how to use sets in Python! "
   ]
  }
 ],
 "metadata": {
  "kernelspec": {
   "display_name": "Python 3",
   "language": "python",
   "name": "python3"
  },
  "language_info": {
   "codemirror_mode": {
    "name": "ipython",
    "version": 3
   },
   "file_extension": ".py",
   "mimetype": "text/x-python",
   "name": "python",
   "nbconvert_exporter": "python",
   "pygments_lexer": "ipython3",
   "version": "3.8.5"
  },
  "toc": {
   "base_numbering": 1,
   "nav_menu": {},
   "number_sections": true,
   "sideBar": true,
   "skip_h1_title": false,
   "title_cell": "Table of Contents",
   "title_sidebar": "Contents",
   "toc_cell": false,
   "toc_position": {},
   "toc_section_display": true,
   "toc_window_display": false
  }
 },
 "nbformat": 4,
 "nbformat_minor": 2
}
